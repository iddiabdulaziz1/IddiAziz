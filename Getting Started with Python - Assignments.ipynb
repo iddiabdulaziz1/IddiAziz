{
 "cells": [
  {
   "cell_type": "markdown",
   "metadata": {},
   "source": [
    "# Assignments"
   ]
  },
  {
   "cell_type": "markdown",
   "metadata": {},
   "source": [
    "### Question 2.2\n",
    "2.2 Write a program that uses input to prompt a user for their name and then welcomes them. Note that input will pop up a dialog box. Enter Sarah in the pop-up box when you are prompted so your output will match the desired output."
   ]
  },
  {
   "cell_type": "code",
   "execution_count": 2,
   "metadata": {},
   "outputs": [
    {
     "name": "stdout",
     "output_type": "stream",
     "text": [
      "Enter your nameIddi Abdul Aziz\n",
      "Hello Iddi Abdul Aziz\n"
     ]
    }
   ],
   "source": [
    "# Solution to Question 2.2\n",
    "name = input(\"Enter your name\")\n",
    "print(\"Hello\", name)"
   ]
  },
  {
   "cell_type": "markdown",
   "metadata": {},
   "source": [
    "### Question 2.3\n",
    "2.3 Write a program to prompt the user for hours and rate per hour using input to compute gross pay. Use 35 hours and a rate of 2.75 per hour to test the program (the pay should be 96.25). You should use input to read a string and float() to convert the string to a number. Do not worry about error checking or bad user data."
   ]
  },
  {
   "cell_type": "code",
   "execution_count": 1,
   "metadata": {},
   "outputs": [
    {
     "name": "stdout",
     "output_type": "stream",
     "text": [
      "Enter Hours: 35\n",
      "Enter rate: 2.75\n",
      "96.25\n"
     ]
    }
   ],
   "source": [
    "# Solution to Question 2.3\n",
    "hours = input(\"Enter Hours: \")\n",
    "rate = input(\"Enter rate: \")\n",
    "pay = float(hours) * float(rate)\n",
    "print(pay)"
   ]
  },
  {
   "cell_type": "markdown",
   "metadata": {},
   "source": [
    "### Question 3.1\n",
    "3.1 Write a program to prompt the user for hours and rate per hour using input to compute gross pay. Pay the hourly rate for the hours up to 40 and 1.5 times the hourly rate for all hours worked above 40 hours. Use 45 hours and a rate of 10.50 per hour to test the program (the pay should be 498.75). You should use input to read a string and float() to convert the string to a number. Do not worry about error checking the user input - assume the user types numbers properly."
   ]
  },
  {
   "cell_type": "code",
   "execution_count": 4,
   "metadata": {},
   "outputs": [
    {
     "name": "stdout",
     "output_type": "stream",
     "text": [
      "Enter Hours:45\n",
      "Enter the Rate:10.50\n",
      "498.75\n"
     ]
    }
   ],
   "source": [
    "# Solution to Question 3.1\n",
    "\n",
    "hrs = input(\"Enter Hours:\")\n",
    "h = float(hrs)\n",
    "zz = input(\"Enter the Rate:\")\n",
    "z = float(zz)\n",
    "if h <= 40:\n",
    "    print(h * z)\n",
    "elif h > 40:\n",
    "    print(40 * z + (h - 40) * 1.5 * z)"
   ]
  },
  {
   "cell_type": "markdown",
   "metadata": {},
   "source": [
    "### Question 3.3\n",
    "3.3 Write a program to prompt for a score between 0.0 and 1.0. If the score is out of range, print an error. If the score is between 0.0 and 1.0, print a grade using the following table:\n",
    "Score Grade\n",
    ">= 0.9 A\n",
    ">= 0.8 B\n",
    ">= 0.7 C\n",
    ">= 0.6 D\n",
    "< 0.6 F\n",
    "If the user enters a value out of range, print a suitable error message and exit. For the test, enter a score of 0.85."
   ]
  },
  {
   "cell_type": "code",
   "execution_count": 7,
   "metadata": {},
   "outputs": [
    {
     "name": "stdout",
     "output_type": "stream",
     "text": [
      "Enter Score: 0.8\n",
      "B\n"
     ]
    }
   ],
   "source": [
    "# Solution to Question 3.3\n",
    "score = input(\"Enter Score: \")\n",
    "z = float(score)\n",
    "if 0.0 <= z <= 1.0:\n",
    "    if z >= 0.9:\n",
    "        result = \"A\"\n",
    "        print(result)\n",
    "    elif 0.8 <= z < 0.9:\n",
    "        result = \"B\"\n",
    "        print(result)\n",
    "    elif 0.7 <= z < 0.8:\n",
    "        result = \"C\"\n",
    "        print(result)\n",
    "    elif 0.6 <= z < 0.7:\n",
    "        result = \"D\"\n",
    "        print(result)\n",
    "    else:\n",
    "        reult = \"F\"\n",
    "        print(result)\n",
    "else:\n",
    "    print(\"Error: score out of range\")"
   ]
  },
  {
   "cell_type": "markdown",
   "metadata": {},
   "source": [
    "### Question 4.6\n",
    "4.6 Write a program to prompt the user for hours and rate per hour using input to compute gross pay. Pay should be the normal rate for hours up to 40 and time-and-a-half for the hourly rate for all hours worked above 40 hours. Put the logic to do the computation of pay in a function called computepay() and use the function to do the computation. The function should return a value. Use 45 hours and a rate of 10.50 per hour to test the program (the pay should be 498.75). You should use input to read a string and float() to convert the string to a number. Do not worry about error checking the user input unless you want to - you can assume the user types numbers properly. Do not name your variable sum or use the sum() function."
   ]
  },
  {
   "cell_type": "code",
   "execution_count": 8,
   "metadata": {},
   "outputs": [
    {
     "name": "stdout",
     "output_type": "stream",
     "text": [
      "Enter Hours:45\n",
      "Enter rate:10.50\n",
      "498.75\n"
     ]
    }
   ],
   "source": [
    "# Solution to Question 4.6\n",
    "\n",
    "def computepay(h,r):\n",
    "    if h <= 40:\n",
    "        pay = h * r\n",
    "    elif h > 40:\n",
    "        pay = 40 * r + (h-40) * r * 1.5\n",
    "    return pay\n",
    "# buld a function to compute payment first.\n",
    "hrs = input(\"Enter Hours:\")\n",
    "h = float(hrs)\n",
    "rate = input(\"Enter rate:\")\n",
    "r = float(rate)\n",
    "p = computepay(h,r) \n",
    "print(p)"
   ]
  },
  {
   "cell_type": "markdown",
   "metadata": {},
   "source": [
    "### Question 5.2\n",
    "5.2 Write a program that repeatedly prompts a user for integer numbers until the user enters 'done'. Once 'done' is entered, print out the largest and smallest of the numbers. If the user enters anything other than a valid number catch it with a try/except and put out an appropriate message and ignore the number. Enter 7, 2, bob, 10, and 4 and match the output below."
   ]
  },
  {
   "cell_type": "code",
   "execution_count": 9,
   "metadata": {},
   "outputs": [
    {
     "name": "stdout",
     "output_type": "stream",
     "text": [
      "Enter a number: 7\n",
      "Enter a number: 2\n",
      "Enter a number: bob\n",
      "Invalid input\n",
      "Enter a number: 10\n",
      "Enter a number: 4\n",
      "Enter a number: done\n",
      "Maximum is 10\n",
      "Minimum is 2\n"
     ]
    }
   ],
   "source": [
    "# Solution to Question 5.2\n",
    "largest = None\n",
    "smallest = None\n",
    "while True:\n",
    "    try:\n",
    "    \tnum = input(\"Enter a number: \")\n",
    "    \tif num == \"done\" : \n",
    "        \tbreak\n",
    "    \tnum = int(num)\n",
    "    \tif largest is None or largest < num:\n",
    "        \tlargest = num\n",
    "    \telif smallest is None or smallest > num:\n",
    "        \tsmallest = num\n",
    "    except ValueError:\n",
    "        print(\"Invalid input\")\n",
    "print('Maximum is', largest)\n",
    "print('Minimum is', smallest)"
   ]
  },
  {
   "cell_type": "code",
   "execution_count": 1,
   "metadata": {},
   "outputs": [
    {
     "name": "stdout",
     "output_type": "stream",
     "text": [
      "Number or 'done': 7\n",
      "Number or 'done': 2\n",
      "Number or 'done': bob\n",
      "Input not recorgnized.\n",
      "Number or 'done': 10\n",
      "Number or 'done': 4\n",
      "Number or 'done': done\n",
      "Maxima is 10\n",
      "Minima is 2\n"
     ]
    }
   ],
   "source": [
    "# Solution to Question 5.2 \n",
    "# ALternative\n",
    "minima = maxima = None\n",
    "while True:\n",
    "    user_input = input(\"Number or 'done': \")\n",
    "    if user_input == 'done':\n",
    "        break\n",
    "    elif user_input.isdigit():\n",
    "        num = int(user_input)\n",
    "        if maxima is None or num > maxima: maxima = num\n",
    "        if minima is None or num < minima: minima = num\n",
    "    else:\n",
    "        print(\"Input not recorgnized.\")\n",
    "print(\"Maxima is {}\".format(maxima)) \n",
    "print(\"Minima is {}\".format(minima)) "
   ]
  },
  {
   "cell_type": "code",
   "execution_count": null,
   "metadata": {},
   "outputs": [],
   "source": []
  }
 ],
 "metadata": {
  "kernelspec": {
   "display_name": "Python 3",
   "language": "python",
   "name": "python3"
  },
  "language_info": {
   "codemirror_mode": {
    "name": "ipython",
    "version": 3
   },
   "file_extension": ".py",
   "mimetype": "text/x-python",
   "name": "python",
   "nbconvert_exporter": "python",
   "pygments_lexer": "ipython3",
   "version": "3.7.5"
  }
 },
 "nbformat": 4,
 "nbformat_minor": 2
}
